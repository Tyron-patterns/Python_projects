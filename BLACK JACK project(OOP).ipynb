{
 "cells": [
  {
   "cell_type": "markdown",
   "id": "694a90b5-3b90-4b4f-a66c-2de2b6ce2cbc",
   "metadata": {},
   "source": [
    "def game_on():\n",
    "\n",
    "player s name\n",
    "decide initial ammount\n",
    "\n",
    "\n",
    "{{{...\n",
    "GAME STARTS:\n",
    "2 dealt to player and removed from deck #(cannot bust nor 21 yet)\n",
    "check for sum of the first 2 cards for player\n",
    "2 dealt to computer (one covered) and removed from deck\n",
    "player bets and the sum is detracted from the current ammount, current ammount is shown\n",
    "\n",
    "\n",
    "\n",
    "PLAYER S TURN:\n",
    "[[[[...player decides if to hit or stay\n",
    "if player hits then on card is given to him and removed from deck\n",
    "check for sum of player cards \n",
    "check for bust or 21\n",
    "(..if bust, player looses, computer wins \n",
    "the sum bet is deducted from the player current ammount\n",
    "player decides if to play again\n",
    "if YES! cards are shuffled, GAME STARTS! with curren ammount\n",
    "if NO! END GAME!..)\n",
    "(..if 21 player turn ends and computer turn starts..)\n",
    "...]]]\n",
    "\n",
    "if not bust nor 21 player decides if to hit or stay\n",
    "\n",
    "[[[...\n",
    "PLAYER TURN loop repeats until the player decides to stay, busts or 21\n",
    "...]]]\n",
    "\n",
    "PLAYER TURN ENDS!\n",
    "#when player stays or 21 computer dealer turn starts\n",
    "\n",
    "\n",
    "reminder for player cards sum\n",
    "computer uncover the hidden card\n",
    "\n",
    "\n",
    "\n",
    "COMPUTER DEALER TURN:\n",
    "\n",
    "[[[...check for computer cards sum\n",
    "check if computer cards sum > player cards sum or if computer cards sum == 21: \n",
    "    \n",
    "(((..YES! computer wins, player looses\n",
    "sum bet by the player is deducted from current ammount player decides if to play again PLAYER TURN restarts with the current ammount\n",
    ")))\n",
    "    \n",
    "(((..NO! computer hits\n",
    "check for computer cards sum\n",
    "check for bust or 21\n",
    "(if bust, computer looses, players win\n",
    "sum bet by the player x2 is added to current ammount\n",
    "player decides if to play again)\n",
    "(if 21 computer wins\n",
    "sum bet by the player deducted from current ammount\n",
    "player decides if to play again\n",
    "if YES! cards are shuffled, GAME STARTS! with curren ammount\n",
    "if NO! END GAME!)\n",
    "..)))\n",
    "                 \n",
    "if not bust, 21 computer hits again\n",
    "...]]]\n",
    "                 \n",
    "[[[...\n",
    "COMPUTER TURN loops repeats until computer busts, 21 or computer cards sum > player cards sum\n",
    "...]]]\n",
    "                 \n",
    "...}}}\n",
    "                 \n",
    "END GAME!:\n",
    "announce the winner! \n",
    "print current ammount\n",
    "player decides if to play again\n",
    "if NO! bye\n",
    "if YES! cards are shuffled, GAME STARTS! with current ammount "
   ]
  },
  {
   "cell_type": "code",
   "execution_count": 5,
   "id": "d191102f-5933-4d96-a6e1-02a8cfc73333",
   "metadata": {},
   "outputs": [],
   "source": [
    "from random import shuffle \n",
    "suits = ('Hearts', 'Diamonds', 'Spades', 'Clubs')\n",
    "ranks = ('Two', 'Three', 'Four', 'Five', 'Six', 'Seven', 'Eight', 'Nine', 'Ten', 'Jack', 'Queen', 'King', 'Ace')\n",
    "values = { 'Two':2, 'Three':3, 'Four':4, 'Five':5, 'Six':6, 'Seven':7, 'Eight':8, \n",
    "            'Nine':9, 'Ten':10, 'Jack':10, 'Queen':10, 'King':10, 'Ace':10}"
   ]
  },
  {
   "cell_type": "code",
   "execution_count": 7,
   "id": "ee5f1c69-7362-4928-80af-458b5ffbca42",
   "metadata": {},
   "outputs": [],
   "source": [
    "class Cards:\n",
    "\n",
    "    def __init__(self, suit, rank):\n",
    "        self.suit = suit\n",
    "        self.rank = rank\n",
    "        self.values = values[rank]\n",
    "\n",
    "    def __str__(self):\n",
    "        return f'{self.rank} of {self.suit}'\n",
    "    "
   ]
  },
  {
   "cell_type": "code",
   "execution_count": 9,
   "id": "f66f53e8-131c-46cf-bc3b-8f30f9b6480d",
   "metadata": {},
   "outputs": [],
   "source": [
    "two_of_hearts = Cards('Hearts', 'Two')"
   ]
  },
  {
   "cell_type": "code",
   "execution_count": 11,
   "id": "82c5f46c-e529-44ac-9c5e-121181314f85",
   "metadata": {},
   "outputs": [],
   "source": [
    "cards=Cards('hearts', 'Two')"
   ]
  },
  {
   "cell_type": "code",
   "execution_count": 8,
   "id": "c3437862-b473-4f8f-84f4-b4b55902d67a",
   "metadata": {},
   "outputs": [
    {
     "data": {
      "text/plain": [
       "'Two'"
      ]
     },
     "execution_count": 8,
     "metadata": {},
     "output_type": "execute_result"
    }
   ],
   "source": [
    "two_of_hearts.rank"
   ]
  },
  {
   "cell_type": "code",
   "execution_count": 9,
   "id": "30951262-ea2a-4219-8765-0f23a0ab73cd",
   "metadata": {},
   "outputs": [
    {
     "data": {
      "text/plain": [
       "2"
      ]
     },
     "execution_count": 9,
     "metadata": {},
     "output_type": "execute_result"
    }
   ],
   "source": [
    "two_of_hearts.values"
   ]
  },
  {
   "cell_type": "code",
   "execution_count": 87,
   "id": "44853712-4867-401e-b75a-62dbdd769263",
   "metadata": {},
   "outputs": [],
   "source": [
    "ace1_of_curbs = Cards('Curbs','Ace1')"
   ]
  },
  {
   "cell_type": "code",
   "execution_count": 93,
   "id": "fe4e1c8e-e8d8-4f54-9e40-b1d266cb91ba",
   "metadata": {},
   "outputs": [
    {
     "data": {
      "text/plain": [
       "int"
      ]
     },
     "execution_count": 93,
     "metadata": {},
     "output_type": "execute_result"
    }
   ],
   "source": [
    "type(ace1_of_curbs.values)"
   ]
  },
  {
   "cell_type": "code",
   "execution_count": 13,
   "id": "16ad0264-4809-4bc1-889d-e95c786a0f2e",
   "metadata": {},
   "outputs": [],
   "source": [
    "class Main_Deck():\n",
    "\n",
    "    def __init__(self):\n",
    "        self.all_cards = []\n",
    "\n",
    "        for rank in ranks:\n",
    "            for suit in suits:\n",
    "                created_card = Cards(suit, rank)\n",
    "                self.all_cards.append(created_card)\n",
    "\n",
    "    def shuffle_cards(self):\n",
    "        shuffle(self.all_cards)\n",
    "\n",
    "    def remove_card(self):\n",
    "        return self.all_cards.pop()\n",
    "\n",
    "    def refill_deck(self):\n",
    "        if len(self.all_cards) == 0:\n",
    "            for rank in ranks:\n",
    "                for suit in suits:\n",
    "                    created_card = Cards(suit, rank)\n",
    "                    self.all_cards.append(created_card)\n",
    "        self.shuffle_cards()"
   ]
  },
  {
   "cell_type": "code",
   "execution_count": 15,
   "id": "4097ae85-7596-4a6c-8dea-1ef148db0703",
   "metadata": {},
   "outputs": [],
   "source": [
    "new_deck = Main_Deck()"
   ]
  },
  {
   "cell_type": "code",
   "execution_count": 14,
   "id": "cd73b689-54a8-48f0-bff8-04da6bdb7d16",
   "metadata": {},
   "outputs": [],
   "source": [
    "new_deck.shuffle_cards()"
   ]
  },
  {
   "cell_type": "code",
   "execution_count": null,
   "id": "eae56794-18bd-4166-a205-eb8d9b37634a",
   "metadata": {},
   "outputs": [],
   "source": [
    "for card in new_deck.all_cards:\n",
    "    print(card)"
   ]
  },
  {
   "cell_type": "code",
   "execution_count": 16,
   "id": "0ccc60bf-be8d-4a20-b876-83547a8614a8",
   "metadata": {},
   "outputs": [
    {
     "data": {
      "text/plain": [
       "56"
      ]
     },
     "execution_count": 16,
     "metadata": {},
     "output_type": "execute_result"
    }
   ],
   "source": [
    "len(new_deck.all_cards)"
   ]
  },
  {
   "cell_type": "code",
   "execution_count": 17,
   "id": "75ddd9c1-9873-4441-8a79-7ed4f551f281",
   "metadata": {},
   "outputs": [
    {
     "name": "stdout",
     "output_type": "stream",
     "text": [
      "Hearts of  Two\n"
     ]
    }
   ],
   "source": [
    "print(new_deck.all_cards[3])"
   ]
  },
  {
   "cell_type": "code",
   "execution_count": 552,
   "id": "e8997ffa-10b5-451a-bb6c-cd53da99ebe7",
   "metadata": {},
   "outputs": [],
   "source": [
    "#my version, works fine but a bit ineffiecient\n",
    "class Player_Dealer_Cards:\n",
    "    \n",
    "    def __init__(self,new_deck):\n",
    "        self.player_cards = []\n",
    "        self.dealer_cards = []\n",
    "        self.new_deck = new_deck\n",
    "        \n",
    "    \n",
    "    def player_first_hand(self):\n",
    "        #self.new_deck.shuffle_cards()\n",
    "\n",
    "        new_deck.refill_deck()\n",
    "        for i in range(2): \n",
    "            card_player = self.new_deck.all_cards.pop(0) \n",
    "            self.player_cards.append(card_player)\n",
    "        \n",
    "        print(f'The cards given to the Player were [{self.player_cards[0]}, {self.player_cards[1]}]')      \n",
    "    def dealer_first_hand(self):\n",
    "        for i in range(2):\n",
    "        \n",
    "            card_dealer = self.new_deck.all_cards.pop(0)\n",
    "            self.dealer_cards.append(card_dealer)\n",
    "            #print(f'The cards given to the Deal were {dealer_cards}')\n",
    "\n",
    "        \n",
    "        print(f\"The cards given to the Dealer were [{self.dealer_cards[0]}, HIDDEN]\")\n",
    "        #print(f'The cards given to the Player were {str(i) for i in self.player_cards}')\n",
    "        #print(f'The cards given to the Dealer were {str(i) for i in self.dealer_cards}') #this is an example of LIST COMPREHENSION\n",
    "    \n",
    "    def player_draw_card(self):\n",
    "        \n",
    "        if len(self.new_deck.all_cards) < 1:\n",
    "            print(\"No more cards in the deck!\")\n",
    "            return\n",
    "            \n",
    "        card = self.new_deck.all_cards.pop(0)\n",
    "        #self.new_deck.all_cards.pop(0)\n",
    "        self.player_cards.append(card)\n",
    "        \n",
    "\n",
    "\n",
    "        print(f\"The card for the player is ['{card}']\")\n",
    "        print(f'The cards of the player are now {[str(i) for i in self.player_cards]}')\n",
    "\n",
    "\n",
    "    def dealer_draw_card(self):\n",
    "        \n",
    "        card = self.new_deck.all_cards.pop(0)\n",
    "        self.dealer_cards.append(card)\n",
    "\n",
    "        if len(self.new_deck.all_cards) < 1:\n",
    "            print(\"No more cards in the deck!\")\n",
    "            return \n",
    "        print(f\"The card for the dealer is ['{card}']\")\n",
    "        print(f'The cards of the dealer are now {[str(i) for i in self.dealer_cards]}') #this is an example of LIST COMPREHENSION\n",
    "\n",
    "    \n",
    "    def check_sum(self,card_list):\n",
    "        # Ensure you're summing the correct card values\n",
    "        hand_card = [card.values for card in card_list]  # Get the values of each card in hand\n",
    "        self.total = sum(hand_card)\n",
    "        if self.total <= 11 and self.rank == 'Ace':\n",
    "            card.values == 10\n",
    "        elif self.total > 11 and self.rank == 'Ace':\n",
    "            card.values == 1\n",
    "        return self.total\n",
    "\n",
    "    def player_reset_cards(self):\n",
    "        self.player_cards = []\n",
    "\n",
    "    def dealer_reset_cards(self):\n",
    "        self.dealer_cards = []\n",
    "      \n"
   ]
  },
  {
   "cell_type": "code",
   "execution_count": 558,
   "id": "98f94275-f591-4c20-8e91-49e096063248",
   "metadata": {},
   "outputs": [],
   "source": [
    "player1 = Player_Dealer_Cards(new_deck)"
   ]
  },
  {
   "cell_type": "code",
   "execution_count": 560,
   "id": "b69a208c-ed26-4d06-a627-98ce86a7e0f4",
   "metadata": {},
   "outputs": [],
   "source": [
    "dealer1 = Player_Dealer_Cards(new_deck)"
   ]
  },
  {
   "cell_type": "code",
   "execution_count": 51,
   "id": "563596fa-e6f1-4c00-834f-732ff6597929",
   "metadata": {},
   "outputs": [
    {
     "name": "stdout",
     "output_type": "stream",
     "text": [
      "The cards given to the Player were [Nine of Spades, Three of Spades]\n"
     ]
    }
   ],
   "source": [
    "player1.player_first_hand()"
   ]
  },
  {
   "cell_type": "code",
   "execution_count": 53,
   "id": "f80c4827-6c3e-4e5e-8004-661ddba51113",
   "metadata": {},
   "outputs": [
    {
     "name": "stdout",
     "output_type": "stream",
     "text": [
      "The cards of the player are now ['Nine of Spades', 'Three of Spades', 'Six of Diamonds']\n"
     ]
    }
   ],
   "source": [
    "player1.player_draw_card()"
   ]
  },
  {
   "cell_type": "code",
   "execution_count": 470,
   "id": "44f5a3c1-d7a7-47d0-9e3c-9908fa655d41",
   "metadata": {},
   "outputs": [
    {
     "name": "stdout",
     "output_type": "stream",
     "text": [
      "The cards given to the Dealer were [Jack of Spades, Hidden]\n"
     ]
    }
   ],
   "source": [
    "dealer1.dealer_first_hand()"
   ]
  },
  {
   "cell_type": "code",
   "execution_count": 472,
   "id": "21eb25a9-2503-4559-afb4-8f9d5cf1b7e0",
   "metadata": {},
   "outputs": [
    {
     "name": "stdout",
     "output_type": "stream",
     "text": [
      "The cards of the dealer are now ['Jack of Spades', 'Four of Diamonds', 'Ace10 of Hearts']\n"
     ]
    }
   ],
   "source": [
    "dealer1.dealer_draw_card()"
   ]
  },
  {
   "cell_type": "code",
   "execution_count": 225,
   "id": "7abccaa9-f12a-4cc2-b9fd-ac252fc3206b",
   "metadata": {},
   "outputs": [
    {
     "data": {
      "text/plain": [
       "method"
      ]
     },
     "execution_count": 225,
     "metadata": {},
     "output_type": "execute_result"
    }
   ],
   "source": [
    "type(dealer1.dealer_first_hand)"
   ]
  },
  {
   "cell_type": "code",
   "execution_count": 413,
   "id": "42164b83-72ae-4edd-aeba-8448d9fd7b55",
   "metadata": {},
   "outputs": [],
   "source": [
    "player1.player_draw_card()"
   ]
  },
  {
   "cell_type": "code",
   "execution_count": 117,
   "id": "0e34d492-a0c2-4ca4-91a9-abc72f3eb4b8",
   "metadata": {},
   "outputs": [
    {
     "name": "stdout",
     "output_type": "stream",
     "text": [
      "[<__main__.Cards object at 0x1403d5d00>, <__main__.Cards object at 0x1403d7ad0>]\n"
     ]
    }
   ],
   "source": [
    "print(player1.player_cards)"
   ]
  },
  {
   "cell_type": "code",
   "execution_count": 119,
   "id": "cac79047-a0fb-4657-b048-27fdbf714419",
   "metadata": {},
   "outputs": [
    {
     "data": {
      "text/plain": [
       "2"
      ]
     },
     "execution_count": 119,
     "metadata": {},
     "output_type": "execute_result"
    }
   ],
   "source": [
    "len(player1.player_cards)"
   ]
  },
  {
   "cell_type": "code",
   "execution_count": 121,
   "id": "a7cb6a2a-c722-47e0-b98c-24f66c24d1d2",
   "metadata": {},
   "outputs": [
    {
     "data": {
      "text/plain": [
       "0"
      ]
     },
     "execution_count": 121,
     "metadata": {},
     "output_type": "execute_result"
    }
   ],
   "source": [
    "len(dealer1.dealer_cards)"
   ]
  },
  {
   "cell_type": "code",
   "execution_count": 23,
   "id": "7157109d-4605-4b0a-8b75-25500a87d021",
   "metadata": {},
   "outputs": [
    {
     "data": {
      "text/plain": [
       "49"
      ]
     },
     "execution_count": 23,
     "metadata": {},
     "output_type": "execute_result"
    }
   ],
   "source": [
    "len(new_deck.all_cards)"
   ]
  },
  {
   "cell_type": "code",
   "execution_count": 576,
   "id": "3a382ba7-ff86-4d6c-9f64-28459e52d3f4",
   "metadata": {},
   "outputs": [],
   "source": [
    "class Bankroll():\n",
    "\n",
    "    def __init__(self,player):\n",
    "        self.player = player\n",
    "        while True:\n",
    "            try:\n",
    "                self.initial_amount = int(input(f\"{self.player.player_name}, please enter your starting bankroll: \"))\n",
    "                if self.initial_amount < 0:\n",
    "                    print('The amount must be greater than 0')\n",
    "                    continue\n",
    "                \n",
    "                break\n",
    "            except ValueError:\n",
    "                print('Please enter a valid input: ')\n",
    "                continue\n",
    "        print(f'The bankroll is set at {self.initial_amount}')\n",
    "        self.current_amount = self.initial_amount\n",
    "\n",
    "\n",
    "    def bet_amount(self):\n",
    "        while True:\n",
    "            try:\n",
    "                self.bet=int(input('Please select a betting amount: '))\n",
    "                if self.bet > self.current_amount:\n",
    "                    print('The betting amount cannot exceed the bankroll! Please place an adequate bet')\n",
    "                    continue\n",
    "                if self.bet <= 0:\n",
    "                    print('The amount must be greater than 0')\n",
    "                    continue\n",
    "                print(f'The amount bet is {self.bet}')\n",
    "                self.current_amount -= self.bet\n",
    "                break\n",
    "            except ValueError:\n",
    "                print('Invalid input, please select a number')\n",
    "                continue\n",
    "        print(f'The current amount is now {self.current_amount}!')\n",
    "\n",
    "    \n",
    "\n",
    "    def winning_round(self):\n",
    "            self.current_amount += 2 * self.bet\n",
    "            print(f'{self.player.player_name}, won {2*self.bet}. The current bankroll for the player is {self.current_amount}')\n",
    "            \n",
    "\n",
    "    def loosing_round(self):\n",
    "            \n",
    "            print(f'{self.player.player_name} lost {self.bet}. The current bankroll for the player is {self.current_amount}')\n",
    "        \n",
    "    def out_of_money(self):\n",
    "        if self.current_amount <= 0:\n",
    "            print(f'{self.player.player_name} has ran out of money! Restart/Recharge to play again!')\n",
    "            return True\n",
    "        else:\n",
    "            return False\n",
    "  \n",
    "    def reset(self):\n",
    "        self.__init__()\n",
    "\n",
    "        "
   ]
  },
  {
   "cell_type": "code",
   "execution_count": 228,
   "id": "7d959d6b-2114-49d4-b9f5-d12945387553",
   "metadata": {},
   "outputs": [
    {
     "name": "stdin",
     "output_type": "stream",
     "text": [
      "Player, please enter your starting bankroll:  100\n"
     ]
    },
    {
     "name": "stdout",
     "output_type": "stream",
     "text": [
      "The bankroll is set at 100\n"
     ]
    }
   ],
   "source": [
    "player_amount = Bankroll()"
   ]
  },
  {
   "cell_type": "code",
   "execution_count": 41,
   "id": "e871b6e4-fde4-4cce-98f3-205ed5a80455",
   "metadata": {},
   "outputs": [
    {
     "data": {
      "text/plain": [
       "0"
      ]
     },
     "execution_count": 41,
     "metadata": {},
     "output_type": "execute_result"
    }
   ],
   "source": [
    "player_amount.initial_amount"
   ]
  },
  {
   "cell_type": "code",
   "execution_count": null,
   "id": "6274e515-bfb8-49fb-a67e-a9d6faad31a2",
   "metadata": {},
   "outputs": [],
   "source": [
    "print(dir(player_amount))"
   ]
  },
  {
   "cell_type": "code",
   "execution_count": 33,
   "id": "c786b93d-80c0-4efe-9ff2-5878beb746d6",
   "metadata": {},
   "outputs": [
    {
     "name": "stdout",
     "output_type": "stream",
     "text": [
      "The player won 20. The current bankroll for the player is 110\n"
     ]
    }
   ],
   "source": [
    "player_amount.winning_round()"
   ]
  },
  {
   "cell_type": "code",
   "execution_count": 35,
   "id": "6ef3702b-2a4c-4186-9651-b95f58938814",
   "metadata": {},
   "outputs": [
    {
     "name": "stdout",
     "output_type": "stream",
     "text": [
      "The player lost 10. The current bankroll for the player is 80\n"
     ]
    }
   ],
   "source": [
    "player_amount.loosing_round()"
   ]
  },
  {
   "cell_type": "code",
   "execution_count": 61,
   "id": "9cc9ab2a-3c8c-4cce-90ec-901913f08a7d",
   "metadata": {},
   "outputs": [
    {
     "data": {
      "text/plain": [
       "'The player has ran out of money!'"
      ]
     },
     "execution_count": 61,
     "metadata": {},
     "output_type": "execute_result"
    }
   ],
   "source": [
    "player_amount.out_of_money()"
   ]
  },
  {
   "cell_type": "code",
   "execution_count": null,
   "id": "8ab14f95-1674-438e-9d40-98a90683892c",
   "metadata": {},
   "outputs": [],
   "source": []
  },
  {
   "cell_type": "code",
   "execution_count": 566,
   "id": "a6d70845-734c-49e0-9071-ca7d2c203405",
   "metadata": {},
   "outputs": [],
   "source": [
    "class Player():\n",
    "    \n",
    "    def __init__(self):                   \n",
    "        self.player_name = input(\"Please enter the player's name: \")\n",
    "\n",
    "    #def one_more_card(self):\n",
    "        \n",
    "    def reset(self):\n",
    "        self.__init__()\n",
    "        \n",
    "    def hit_or_stay(self):\n",
    "        \n",
    "        while True:\n",
    "            draw_card=input(f'{self.player_name} do you want to Hit (H) or Stay (S)?').upper()\n",
    "\n",
    "            if not draw_card:\n",
    "                print('An input must be entered!')\n",
    "                continue\n",
    "                \n",
    "            if draw_card == 'H':\n",
    "                print(f'{self.player_name} is going to Hit!')\n",
    "                return 'H'\n",
    "                \n",
    "                \n",
    "            elif draw_card == 'S':\n",
    "                #stay = no more cards\n",
    "                print(f'{self.player_name} is going to Stay!')\n",
    "                return 'S'\n",
    "                \n",
    "                \n",
    "            else:\n",
    "                print ('Please choose a valid input H or S')\n",
    "                continue  \n",
    "        \n",
    "        "
   ]
  },
  {
   "cell_type": "code",
   "execution_count": 91,
   "id": "1e501aa8-11d1-4ea9-8362-50d65d9fb4dd",
   "metadata": {},
   "outputs": [
    {
     "name": "stdin",
     "output_type": "stream",
     "text": [
      "Please enter the player's name:  t\n"
     ]
    }
   ],
   "source": [
    "player = Player()"
   ]
  },
  {
   "cell_type": "code",
   "execution_count": null,
   "id": "caddb743-188a-4256-b8a7-a67d0a093741",
   "metadata": {},
   "outputs": [],
   "source": [
    "player.hit_or_stay()"
   ]
  },
  {
   "cell_type": "code",
   "execution_count": null,
   "id": "40ec8066-6036-473c-9dc2-ae32399175ad",
   "metadata": {},
   "outputs": [],
   "source": [
    "       "
   ]
  },
  {
   "cell_type": "code",
   "execution_count": 49,
   "id": "c1179547-6409-4ff2-99d9-28c38106fc79",
   "metadata": {},
   "outputs": [],
   "source": []
  },
  {
   "cell_type": "code",
   "execution_count": 496,
   "id": "5fe6623f-70f5-469d-b071-bb66751e6788",
   "metadata": {},
   "outputs": [],
   "source": [
    "class End_Game():    #computer_wins, player.wins\n",
    "\n",
    "    #def __init__(self):\n",
    "        #self.player_amount = player_amount\n",
    "\n",
    "\n",
    "    def play_again(self):\n",
    "        #if player_amount.out_of_money:\n",
    "            #return\n",
    "        #else:\n",
    "        while True:\n",
    "            again = input('Do you want to play again: Y or N?').upper()\n",
    "            if again == 'Y':\n",
    "                print(\"Let's play again\")\n",
    "                return 'Y'\n",
    "    \n",
    "            elif again == 'N':\n",
    "                print('See you next time!')\n",
    "                return 'N'\n",
    "    \n",
    "            else:\n",
    "                print('Please select a valid input: Y or N')\n",
    "                pass\n",
    "   \n",
    "        "
   ]
  },
  {
   "cell_type": "code",
   "execution_count": 498,
   "id": "9c6c097a-f618-4a82-a7c1-d816d3f3969a",
   "metadata": {},
   "outputs": [],
   "source": [
    "end = End_Game()"
   ]
  },
  {
   "cell_type": "code",
   "execution_count": 338,
   "id": "c82c0c2a-780d-49d5-afd9-44198017fe87",
   "metadata": {},
   "outputs": [
    {
     "name": "stdin",
     "output_type": "stream",
     "text": [
      "Do you want to play again: Y or N? y\n"
     ]
    },
    {
     "name": "stdout",
     "output_type": "stream",
     "text": [
      "Let's play again\n"
     ]
    },
    {
     "data": {
      "text/plain": [
       "'Y'"
      ]
     },
     "execution_count": 338,
     "metadata": {},
     "output_type": "execute_result"
    }
   ],
   "source": [
    "end.play_again()"
   ]
  },
  {
   "cell_type": "code",
   "execution_count": 586,
   "id": "afe1ba63-d98a-4d23-bcd5-beb315d1742c",
   "metadata": {},
   "outputs": [],
   "source": [
    "def game_on():\n",
    "\n",
    "        \n",
    "    player = Player()\n",
    "    player.player_name\n",
    "    player_name = player.player_name\n",
    "    player_amount = Bankroll(player)\n",
    "        \n",
    "        \n",
    "    current_round = 0\n",
    "    game_on = True\n",
    "    \n",
    "        \n",
    "    #GAME STARTS:\n",
    "    while game_on:\n",
    "\n",
    "        if player_amount.out_of_money():\n",
    "            return\n",
    "        player1.player_reset_cards()\n",
    "        dealer1.dealer_reset_cards()\n",
    "        new_deck.refill_deck()\n",
    "        player1.player_first_hand()\n",
    "        dealer1.dealer_first_hand()\n",
    "        player_sum = player1.check_sum(player1.player_cards)\n",
    "        dealer_sum = dealer1.check_sum(dealer1.dealer_cards)\n",
    "        print(f'{player.player_name} cards sum is {player_sum}')\n",
    "        player_amount.bet_amount()          \n",
    "\n",
    "#PLAYER'S TURN           \n",
    "        \n",
    "        player_turn = True\n",
    "        restart_game = False\n",
    "        \n",
    "        while player_turn:\n",
    "\n",
    "            draw_card = player.hit_or_stay()\n",
    "\n",
    "            if draw_card == 'S':\n",
    "                player_turn = False\n",
    "                print (\"Player decided to STAY! Dealer's turn\")\n",
    "                break\n",
    "                \n",
    "            \n",
    "            elif draw_card == 'H':                \n",
    "                player1.player_draw_card()                \n",
    "                player_sum = player1.check_sum(player1.player_cards) \n",
    "                \n",
    "\n",
    "                if player_sum < 21:\n",
    "                    print(f'{player.player_name} sum is {player_sum}')\n",
    "                    continue\n",
    "                \n",
    "                if player_sum == 21:\n",
    "                    print(f\"{player.player_name} HIT {player_sum} and WINS. CONGRATULATIONS!\")\n",
    "                    player_turn = False\n",
    "                    player_amount.winning_round()\n",
    "                    return\n",
    "                \n",
    "                if player_sum > 21:\n",
    "                    print(f'{player.player_name} scored {player_sum} and BUSTED!')\n",
    "                    player_amount.loosing_round()\n",
    "                    \n",
    "                    end=End_Game()\n",
    "                    again=end.play_again()\n",
    "                    if again == 'Y':\n",
    "                        new_deck.refill_deck()\n",
    "                        restart_game = True\n",
    "                        break\n",
    "                    \n",
    "                    elif again == 'N':\n",
    "                        return\n",
    "\n",
    "                \n",
    "                \n",
    "\n",
    "#DEALER'S TURN\n",
    "        if restart_game:\n",
    "            continue\n",
    "        dealer_turn = True\n",
    "        \n",
    "        print(f'Dealer first hand was {[str(dealer_first_hand) for dealer_first_hand in dealer1.dealer_cards]}')\n",
    "        print(f'Dealer uncovers his HIDDEN card and the sum of the first hand is {dealer_sum}')\n",
    "        \n",
    "        while dealer_turn:\n",
    "            print\n",
    "            dealer1.dealer_draw_card()         \n",
    "            dealer_sum = dealer1.check_sum(dealer1.dealer_cards)\n",
    "            \n",
    "\n",
    "            if dealer_sum > player_sum and dealer_sum <21:\n",
    "                print(f'Dealer scored {dealer_sum} and player scored {player_sum}: Dealer WINS!')\n",
    "                player_amount.loosing_round()\n",
    "                dealer_turn = False\n",
    "                break\n",
    "            \n",
    "            if dealer_sum == 21:\n",
    "                print('Dealer Hit 21 and won')\n",
    "                player_amount.loosing_round()\n",
    "                dealer_turn = False\n",
    "                break\n",
    "\n",
    "            if dealer_sum > 21:\n",
    "                print(f'Dealer scored {dealer_sum} and ealer Busted! Player wins!')\n",
    "                player_amount.winning_round()\n",
    "                \n",
    "                dealer_turn = False\n",
    "                break\n",
    "                \n",
    "        end=End_Game()\n",
    "        again=end.play_again()\n",
    "        if again == 'Y':\n",
    "            new_deck.refill_deck()\n",
    "            continue\n",
    "        elif again == 'N':\n",
    "            return\n"
   ]
  },
  {
   "cell_type": "code",
   "execution_count": 588,
   "id": "1579f119-4589-4380-85e1-7faee3ba4c44",
   "metadata": {},
   "outputs": [
    {
     "name": "stdin",
     "output_type": "stream",
     "text": [
      "Please enter the player's name:  Tyron\n",
      "Tyron, please enter your starting bankroll:  100\n"
     ]
    },
    {
     "name": "stdout",
     "output_type": "stream",
     "text": [
      "The bankroll is set at 100\n",
      "The cards given to the Player were [Four of Diamonds, Eight of Spades]\n",
      "The cards given to the Dealer were [Four of Hearts, HIDDEN]\n",
      "Tyron cards sum is 12\n"
     ]
    },
    {
     "name": "stdin",
     "output_type": "stream",
     "text": [
      "Please select a betting amount:  1\n"
     ]
    },
    {
     "name": "stdout",
     "output_type": "stream",
     "text": [
      "The amount bet is 1\n",
      "The current amount is now 99!\n"
     ]
    },
    {
     "name": "stdin",
     "output_type": "stream",
     "text": [
      "Tyron do you want to Hit (H) or Stay (S)? h\n"
     ]
    },
    {
     "name": "stdout",
     "output_type": "stream",
     "text": [
      "Tyron is going to Hit!\n",
      "The card for the player is ['Ace10 of Hearts']\n",
      "The cards of the player are now ['Four of Diamonds', 'Eight of Spades', 'Ace10 of Hearts']\n",
      "Tyron scored 22 and BUSTED!\n",
      "Tyron lost 1. The current bankroll for the player is 99\n"
     ]
    },
    {
     "name": "stdin",
     "output_type": "stream",
     "text": [
      "Do you want to play again: Y or N? n\n"
     ]
    },
    {
     "name": "stdout",
     "output_type": "stream",
     "text": [
      "See you next time!\n"
     ]
    }
   ],
   "source": [
    "game_on()"
   ]
  },
  {
   "cell_type": "code",
   "execution_count": null,
   "id": "852c635e-01fa-4e31-8a04-82f80138284f",
   "metadata": {},
   "outputs": [],
   "source": []
  },
  {
   "cell_type": "code",
   "execution_count": null,
   "id": "104c1602-9c21-44a0-9845-54c63a5ed76f",
   "metadata": {},
   "outputs": [],
   "source": []
  },
  {
   "cell_type": "code",
   "execution_count": 404,
   "id": "76868405-a56c-4df5-b60f-12d7781d5199",
   "metadata": {},
   "outputs": [],
   "source": []
  },
  {
   "cell_type": "code",
   "execution_count": null,
   "id": "10149cab-52cb-4d60-98d5-33eae9dce225",
   "metadata": {},
   "outputs": [],
   "source": []
  },
  {
   "cell_type": "code",
   "execution_count": null,
   "id": "c7fa4c2d-c9ad-4f63-bcbf-a30915f429aa",
   "metadata": {},
   "outputs": [],
   "source": []
  }
 ],
 "metadata": {
  "kernelspec": {
   "display_name": "Python 3 (ipykernel)",
   "language": "python",
   "name": "python3"
  },
  "language_info": {
   "codemirror_mode": {
    "name": "ipython",
    "version": 3
   },
   "file_extension": ".py",
   "mimetype": "text/x-python",
   "name": "python",
   "nbconvert_exporter": "python",
   "pygments_lexer": "ipython3",
   "version": "3.12.7"
  }
 },
 "nbformat": 4,
 "nbformat_minor": 5
}
