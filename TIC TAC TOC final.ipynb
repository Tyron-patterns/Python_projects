{
 "cells": [
  {
   "cell_type": "code",
   "execution_count": null,
   "id": "8b871d72-ce35-4c41-8be7-3524217e2ade",
   "metadata": {},
   "outputs": [],
   "source": []
  },
  {
   "cell_type": "code",
   "execution_count": null,
   "id": "37b72efc-65e2-4e4e-b091-c0f23d61bac4",
   "metadata": {},
   "outputs": [],
   "source": []
  },
  {
   "cell_type": "code",
   "execution_count": 1,
   "id": "3bc57ca5-88f0-48e7-bd69-df522a8d2690",
   "metadata": {},
   "outputs": [],
   "source": [
    "from IPython.display import clear_output\n",
    "\n",
    "def display_board(board):\n",
    "    clear_output()\n",
    "    print('   |   |')\n",
    "    print(' ' + board[1] + ' | ' + board[2] + ' | ' + board[3])\n",
    "    print('   |   |')\n",
    "    print('-----------')\n",
    "    print('   |   |')\n",
    "    print(' ' + board[4] + ' | ' + board[5] + ' | ' + board[6])\n",
    "    print('   |   |')\n",
    "    print('-----------')\n",
    "    print('   |   |')\n",
    "    print(' ' + board[7] + ' | ' + board[8] + ' | ' + board[9])\n",
    "    print('   |   |')\n",
    "\n",
    "#this function creates a board where every element is a string that either takes in the index of a list or just a character \n",
    "#like '-' or '|' hat are needed to draw the actual board structure"
   ]
  },
  {
   "cell_type": "code",
   "execution_count": 17,
   "id": "ad60d4d5-2064-4042-9269-4b6b5fc38f06",
   "metadata": {},
   "outputs": [
    {
     "name": "stdout",
     "output_type": "stream",
     "text": [
      "   |   |\n",
      " X | O | X\n",
      "   |   |\n",
      "-----------\n",
      "   |   |\n",
      " O | X | O\n",
      "   |   |\n",
      "-----------\n",
      "   |   |\n",
      " X | O | X\n",
      "   |   |\n"
     ]
    }
   ],
   "source": [
    "test_board=['#','X','O','X','O','X','O','X','O','X']\n",
    "display_board(test_board)"
   ]
  },
  {
   "cell_type": "code",
   "execution_count": 3,
   "id": "580b370b-90bf-475a-ab2b-fbc640e0b5ad",
   "metadata": {},
   "outputs": [],
   "source": [
    "def sign_assignment():\n",
    "    list_of_signs=['X','O']\n",
    "    value1=''\n",
    "    value2=''\n",
    "    while value1 not in list_of_signs:\n",
    "        value1=input('Choose your sign: X, O').upper()\n",
    "          \n",
    "        \n",
    "        if value1=='X':\n",
    "                  value2=list_of_signs[1]\n",
    "            \n",
    "        else:\n",
    "                  value2=list_of_signs[0]\n",
    "    print(f'PLAYER 1 is: {value1}') \n",
    "    print(f'PLAYER 2 is: {value2}')   \n",
    "    return (value1,value2)\n",
    "            \n",
    "        #if value1 not in list_of_signs:\n",
    "            #print(\"Please choose an 'X' or an 'O'\")\n",
    "           \n",
    "            \n",
    "        #else:\n",
    "            #print(f'PLAYER 1 is: {value1}')\n",
    "            #print(f'PLAYER 2 is: {value2}')\n",
    "\n",
    "#from this function we are gonna recall 'value1' or 'value2'"
   ]
  },
  {
   "cell_type": "code",
   "execution_count": 9,
   "id": "33726a60-45a3-4854-a81f-eb766a8e93b7",
   "metadata": {},
   "outputs": [
    {
     "name": "stdin",
     "output_type": "stream",
     "text": [
      "Choose your sign: X, O x\n"
     ]
    },
    {
     "name": "stdout",
     "output_type": "stream",
     "text": [
      "PLAYER 1 is: X\n",
      "PLAYER 2 is: O\n"
     ]
    },
    {
     "data": {
      "text/plain": [
       "('X', 'O')"
      ]
     },
     "execution_count": 9,
     "metadata": {},
     "output_type": "execute_result"
    }
   ],
   "source": [
    "sign_assignment()"
   ]
  },
  {
   "cell_type": "code",
   "execution_count": 5,
   "id": "b0f59c95-880a-4929-93f0-2ec30535b51c",
   "metadata": {},
   "outputs": [],
   "source": [
    "def place_marker(board, value1, value2, position1, position2):\n",
    "    # Use position1 and position2 to place markers for PLAYER1 and PLAYER2\n",
    "    for pos in position1:\n",
    "        board[int(pos)] = value1\n",
    "    for pos in position2:\n",
    "        board[int(pos)] = value2\n"
   ]
  },
  {
   "cell_type": "code",
   "execution_count": null,
   "id": "90afd6ce-eeb8-4592-ab68-409754e91960",
   "metadata": {},
   "outputs": [],
   "source": []
  },
  {
   "cell_type": "code",
   "execution_count": null,
   "id": "27fecc83-4f36-4d95-b2a0-082de8857440",
   "metadata": {},
   "outputs": [],
   "source": []
  },
  {
   "cell_type": "code",
   "execution_count": 110,
   "id": "7466ee28-b91a-4a92-89a2-251765a157f9",
   "metadata": {},
   "outputs": [],
   "source": [
    "def winner(player_one, player_two,total):\n",
    "    win = {\n",
    "        'k1': ['1', '2', '3'], 'k2': ['4', '5', '6'], 'k3': ['7', '8', '9'],\n",
    "        'k4': ['1', '4', '7'], 'k5': ['2', '5', '8'], 'k6': ['3', '6', '9'],\n",
    "        'k7': ['1', '5', '9'], 'k8': ['3', '5', '7']\n",
    "    }\n",
    "\n",
    "    # Check if any player has won\n",
    "    for key, win_combo in win.items():\n",
    "        if all(num in player_one for num in win_combo):\n",
    "            print('PLAYER1 wins')\n",
    "            return 'PLAYER1'  # Exit after a winner is found\n",
    "        elif all(num in player_two for num in win_combo):\n",
    "            print('PLAYER2 wins')\n",
    "            return 'PLAYER2'  # Exit after a winner is found\n",
    "    \n",
    "    # Check if there are no more moves left\n",
    "    if not total:  # No moves left, it's a tie\n",
    "        print(\"It's a tie!\")\n",
    "        return \"It's a TIE!\" # End the game if no moves are left\n",
    "    \n",
    "    \n",
    "    return False  # No winner yet, continue\n",
    "    "
   ]
  },
  {
   "cell_type": "code",
   "execution_count": 112,
   "id": "734aa289-7fdf-49c6-a04c-ad369e4e0b2e",
   "metadata": {},
   "outputs": [],
   "source": [
    "def total_moves(myboard, value1, value2):\n",
    "    total=['1','2','3','4','5','6','7','8','9']\n",
    "    #total=[1,2,3,4,5,6,7,8,9]\n",
    "    player_one=''\n",
    "    player_two=''\n",
    "    position1=[]\n",
    "    position2=[]\n",
    "    while total:\n",
    "        PLAYER1=input('PLAYER1 please pick a number :')\n",
    "        if PLAYER1 in total and PLAYER1 not in player_two and PLAYER1 not in player_one:\n",
    "            total.remove(PLAYER1)\n",
    "            player_one+=PLAYER1\n",
    "            position1.append(PLAYER1)\n",
    "            #clear_output()\n",
    "            place_marker(myboard, value1, value2, position1, position2)  # Update the board\n",
    "            display_board(myboard)  # Show updated board\n",
    "            print(f'PLAYER1 pick is: {PLAYER1}')\n",
    "            print('PLAYER2 turn')\n",
    "            \n",
    "        else:\n",
    "            continue   \n",
    "        if winner(player_one, player_two, total):\n",
    "            #result=\"\".join(total)\n",
    "            \n",
    "            return position1, position2\n",
    "            #return list('#'+result+player_one + player_two), \n",
    "            \n",
    "        \n",
    "        \n",
    "        while total:\n",
    "            PLAYER2=input('PLAYER2 please pick a number :')\n",
    "            if PLAYER2 in total and PLAYER2 not in player_one and PLAYER2 not in player_two:\n",
    "                total.remove(PLAYER2)\n",
    "                player_two+=PLAYER2\n",
    "                position2.append(PLAYER2)\n",
    "                #clear_output()\n",
    "                place_marker(myboard, value1, value2, position1, position2)  # Update the board\n",
    "                display_board(myboard)  # Show updated board\n",
    "                print(f'PLAYER2 pick is: {PLAYER2}')\n",
    "                print('PLAYER1 turn')\n",
    "            else:\n",
    "                continue\n",
    "            if winner(player_one, player_two, total):\n",
    "                #result=\"\".join(total)\n",
    "                print('PLAYER2 is the winner!')\n",
    "                return position1, position2\n",
    "                #return list('#'+result+player_one + player_two)\n",
    "            break\n",
    "    #return list('#'+result+player_one + player_two),player_one,player_two\n",
    "        "
   ]
  },
  {
   "cell_type": "code",
   "execution_count": 673,
   "id": "c1983fc6-1a01-4260-b1e7-b54d550eea3f",
   "metadata": {},
   "outputs": [],
   "source": [
    "def replay():\n",
    "    \n",
    "    \n",
    "    while True:\n",
    "        return input('Do you want to play again: Y or N?').upper()\n",
    "        "
   ]
  },
  {
   "cell_type": "code",
   "execution_count": 675,
   "id": "add3bb7d-0564-4a23-9e99-e666241273a1",
   "metadata": {},
   "outputs": [
    {
     "ename": "KeyboardInterrupt",
     "evalue": "Interrupted by user",
     "output_type": "error",
     "traceback": [
      "\u001b[0;31m---------------------------------------------------------------------------\u001b[0m",
      "\u001b[0;31mKeyboardInterrupt\u001b[0m                         Traceback (most recent call last)",
      "Cell \u001b[0;32mIn[675], line 1\u001b[0m\n\u001b[0;32m----> 1\u001b[0m hi\u001b[38;5;241m=\u001b[39mreplay()\n",
      "Cell \u001b[0;32mIn[673], line 5\u001b[0m, in \u001b[0;36mreplay\u001b[0;34m()\u001b[0m\n\u001b[1;32m      1\u001b[0m \u001b[38;5;28;01mdef\u001b[39;00m \u001b[38;5;21mreplay\u001b[39m():\n\u001b[1;32m      4\u001b[0m     \u001b[38;5;28;01mwhile\u001b[39;00m \u001b[38;5;28;01mTrue\u001b[39;00m:\n\u001b[0;32m----> 5\u001b[0m         \u001b[38;5;28;01mreturn\u001b[39;00m \u001b[38;5;28minput\u001b[39m(\u001b[38;5;124m'\u001b[39m\u001b[38;5;124mDo you want to play again: Y or N?\u001b[39m\u001b[38;5;124m'\u001b[39m)\u001b[38;5;241m.\u001b[39mupper()\n",
      "File \u001b[0;32m/opt/anaconda3/lib/python3.12/site-packages/ipykernel/kernelbase.py:1262\u001b[0m, in \u001b[0;36mKernel.raw_input\u001b[0;34m(self, prompt)\u001b[0m\n\u001b[1;32m   1260\u001b[0m     msg \u001b[38;5;241m=\u001b[39m \u001b[38;5;124m\"\u001b[39m\u001b[38;5;124mraw_input was called, but this frontend does not support input requests.\u001b[39m\u001b[38;5;124m\"\u001b[39m\n\u001b[1;32m   1261\u001b[0m     \u001b[38;5;28;01mraise\u001b[39;00m StdinNotImplementedError(msg)\n\u001b[0;32m-> 1262\u001b[0m \u001b[38;5;28;01mreturn\u001b[39;00m \u001b[38;5;28mself\u001b[39m\u001b[38;5;241m.\u001b[39m_input_request(\n\u001b[1;32m   1263\u001b[0m     \u001b[38;5;28mstr\u001b[39m(prompt),\n\u001b[1;32m   1264\u001b[0m     \u001b[38;5;28mself\u001b[39m\u001b[38;5;241m.\u001b[39m_parent_ident[\u001b[38;5;124m\"\u001b[39m\u001b[38;5;124mshell\u001b[39m\u001b[38;5;124m\"\u001b[39m],\n\u001b[1;32m   1265\u001b[0m     \u001b[38;5;28mself\u001b[39m\u001b[38;5;241m.\u001b[39mget_parent(\u001b[38;5;124m\"\u001b[39m\u001b[38;5;124mshell\u001b[39m\u001b[38;5;124m\"\u001b[39m),\n\u001b[1;32m   1266\u001b[0m     password\u001b[38;5;241m=\u001b[39m\u001b[38;5;28;01mFalse\u001b[39;00m,\n\u001b[1;32m   1267\u001b[0m )\n",
      "File \u001b[0;32m/opt/anaconda3/lib/python3.12/site-packages/ipykernel/kernelbase.py:1305\u001b[0m, in \u001b[0;36mKernel._input_request\u001b[0;34m(self, prompt, ident, parent, password)\u001b[0m\n\u001b[1;32m   1302\u001b[0m \u001b[38;5;28;01mexcept\u001b[39;00m \u001b[38;5;167;01mKeyboardInterrupt\u001b[39;00m:\n\u001b[1;32m   1303\u001b[0m     \u001b[38;5;66;03m# re-raise KeyboardInterrupt, to truncate traceback\u001b[39;00m\n\u001b[1;32m   1304\u001b[0m     msg \u001b[38;5;241m=\u001b[39m \u001b[38;5;124m\"\u001b[39m\u001b[38;5;124mInterrupted by user\u001b[39m\u001b[38;5;124m\"\u001b[39m\n\u001b[0;32m-> 1305\u001b[0m     \u001b[38;5;28;01mraise\u001b[39;00m \u001b[38;5;167;01mKeyboardInterrupt\u001b[39;00m(msg) \u001b[38;5;28;01mfrom\u001b[39;00m \u001b[38;5;28;01mNone\u001b[39;00m\n\u001b[1;32m   1306\u001b[0m \u001b[38;5;28;01mexcept\u001b[39;00m \u001b[38;5;167;01mException\u001b[39;00m:\n\u001b[1;32m   1307\u001b[0m     \u001b[38;5;28mself\u001b[39m\u001b[38;5;241m.\u001b[39mlog\u001b[38;5;241m.\u001b[39mwarning(\u001b[38;5;124m\"\u001b[39m\u001b[38;5;124mInvalid Message:\u001b[39m\u001b[38;5;124m\"\u001b[39m, exc_info\u001b[38;5;241m=\u001b[39m\u001b[38;5;28;01mTrue\u001b[39;00m)\n",
      "\u001b[0;31mKeyboardInterrupt\u001b[0m: Interrupted by user"
     ]
    }
   ],
   "source": [
    "hi=replay()"
   ]
  },
  {
   "cell_type": "code",
   "execution_count": 375,
   "id": "668d95e4-866e-4b31-8e51-b290bc4b6f05",
   "metadata": {},
   "outputs": [
    {
     "data": {
      "text/plain": [
       "'Bye!'"
      ]
     },
     "execution_count": 375,
     "metadata": {},
     "output_type": "execute_result"
    }
   ],
   "source": [
    "hi\n"
   ]
  },
  {
   "cell_type": "code",
   "execution_count": 677,
   "id": "c5edaa96-1b74-4bb7-b3b2-6d02ca32599d",
   "metadata": {},
   "outputs": [],
   "source": [
    "def start_game():\n",
    "    options = ['Y', 'N']\n",
    "    \n",
    "    while True:  # Keep asking until valid input\n",
    "        start = input('Do you want to start the game: Y or N?').upper()\n",
    "        \n",
    "        if start not in options:\n",
    "            print('Please choose either Y or N')\n",
    "        else:\n",
    "            # If the input is valid, handle it\n",
    "            if start == options[0]:  # If input is 'Y'\n",
    "                return \"Let's play!\"\n",
    "            elif start == options[1]:  # If input is 'N'\n",
    "                return 'Bye!'\n",
    "\n",
    "    "
   ]
  },
  {
   "cell_type": "code",
   "execution_count": 603,
   "id": "80fe20ad-161e-4973-b868-47fd2a33be00",
   "metadata": {},
   "outputs": [
    {
     "name": "stdin",
     "output_type": "stream",
     "text": [
      "Do you want to start the game: Y or N? e\n",
      "Please choose either Y or N e\n",
      "Please choose either Y or N e\n",
      "Please choose either Y or N y\n"
     ]
    }
   ],
   "source": [
    "start_game()"
   ]
  },
  {
   "cell_type": "raw",
   "id": "a8e4b08a-b3e7-465b-91c1-fb14bc120774",
   "metadata": {},
   "source": []
  },
  {
   "cell_type": "code",
   "execution_count": null,
   "id": "fc3f442d-275b-495c-accd-d8b10a25d111",
   "metadata": {},
   "outputs": [],
   "source": []
  },
  {
   "cell_type": "code",
   "execution_count": 409,
   "id": "c7af74fc-63b4-471c-a884-488760cbca20",
   "metadata": {},
   "outputs": [],
   "source": [
    "import random\n",
    "def choose_first():\n",
    "    if random.randint(0, 1) == 0:\n",
    "        return 'PLAYER2 starts'\n",
    "    else:\n",
    "        return 'PLAYER1 starts'"
   ]
  },
  {
   "cell_type": "code",
   "execution_count": 683,
   "id": "91d5b93d-f76d-4cb1-aa86-6092e236b377",
   "metadata": {},
   "outputs": [],
   "source": [
    "\n",
    "def play_game():\n",
    "    options=['Y','N']\n",
    "    if start_game()==\"Let's play!\":\n",
    "        while True:\n",
    "            myboard = [' '] * 10\n",
    "            display_board(myboard)\n",
    "        #turn=choose_first()\n",
    "        #print(turn + ' will go first.')\n",
    "            value1, value2 = sign_assignment()\n",
    "            position1, position2 = total_moves(myboard, value1, value2)\n",
    "            display_board(myboard)  # Final board state\n",
    "        \n",
    "            if replay()=='N':\n",
    "                \n",
    "                break\n",
    "    else:\n",
    "        return('bye!')\n",
    "        "
   ]
  },
  {
   "cell_type": "code",
   "execution_count": 685,
   "id": "08fd12e5-3c95-4f7a-8060-044408932121",
   "metadata": {},
   "outputs": [
    {
     "name": "stdout",
     "output_type": "stream",
     "text": [
      "   |   |\n",
      " X | O | X\n",
      "   |   |\n",
      "-----------\n",
      "   |   |\n",
      " O | X | O\n",
      "   |   |\n",
      "-----------\n",
      "   |   |\n",
      " X |   |  \n",
      "   |   |\n"
     ]
    },
    {
     "name": "stdin",
     "output_type": "stream",
     "text": [
      "Do you want to play again: Y or N? n\n"
     ]
    }
   ],
   "source": [
    "print('Welcome to my TIC TAC TOC')\n",
    "play_game()"
   ]
  },
  {
   "cell_type": "code",
   "execution_count": null,
   "id": "5068024d-6f91-4ff6-8668-2faa7380201e",
   "metadata": {},
   "outputs": [],
   "source": []
  },
  {
   "cell_type": "code",
   "execution_count": null,
   "id": "eedadf93-4f43-42ee-9fc7-ced03ffd27f5",
   "metadata": {},
   "outputs": [],
   "source": []
  },
  {
   "cell_type": "code",
   "execution_count": null,
   "id": "f96fa1b0-95fb-4bb8-9dbc-74dbc0b9bc86",
   "metadata": {},
   "outputs": [],
   "source": []
  },
  {
   "cell_type": "code",
   "execution_count": 103,
   "id": "373edeba-7de4-476f-8a3e-873401c7338b",
   "metadata": {},
   "outputs": [],
   "source": [
    "def total_moves(myboard, value1, value2):\n",
    "    total = ['1', '2', '3', '4', '5', '6', '7', '8', '9']\n",
    "    player_one = ''\n",
    "    player_two = ''\n",
    "    position1 = []\n",
    "    position2 = []\n",
    "    \n",
    "    while total:\n",
    "        # PLAYER1's turn\n",
    "        PLAYER1 = input('PLAYER1 please pick a number: ')\n",
    "        if PLAYER1 in total:\n",
    "            total.remove(PLAYER1)\n",
    "            player_one += PLAYER1\n",
    "            position1.append(PLAYER1)\n",
    "            #clear_output()\n",
    "            place_marker(myboard, value1, value2, position1, position2)  # Update the board\n",
    "            display_board(myboard)  # Show updated board\n",
    "            print(f'PLAYER1 pick is: {PLAYER1}')\n",
    "            \n",
    "            # Check for winner after PLAYER1's move\n",
    "            if winner(player_one, player_two, total):\n",
    "                return position1, position2\n",
    "            \n",
    "        # PLAYER2's turn\n",
    "        PLAYER2 = input('PLAYER2 please pick a number: ')\n",
    "        if PLAYER2 in total:\n",
    "            total.remove(PLAYER2)\n",
    "            player_two += PLAYER2\n",
    "            position2.append(PLAYER2)\n",
    "            #clear_output()\n",
    "            place_marker(myboard, value1, value2, position1, position2)  # Update the board\n",
    "            display_board(myboard)  # Show updated board\n",
    "            print(f'PLAYER2 pick is: {PLAYER2}')\n",
    "            \n",
    "            # Check for winner after PLAYER2's move\n",
    "            if winner(player_one, player_two, total):\n",
    "                return position1, position2"
   ]
  },
  {
   "cell_type": "code",
   "execution_count": null,
   "id": "4894e226-a2d8-42b7-8495-4f0fbf7e0020",
   "metadata": {},
   "outputs": [],
   "source": []
  },
  {
   "cell_type": "code",
   "execution_count": null,
   "id": "15162075-b527-40e1-afe3-eb462b1e3ca3",
   "metadata": {},
   "outputs": [],
   "source": []
  },
  {
   "cell_type": "code",
   "execution_count": null,
   "id": "626c6261-c4d2-4605-8378-876c62adffbc",
   "metadata": {},
   "outputs": [],
   "source": []
  },
  {
   "cell_type": "code",
   "execution_count": null,
   "id": "d717ceee-cdbb-4ff9-8308-b610ab0cbc97",
   "metadata": {},
   "outputs": [],
   "source": []
  },
  {
   "cell_type": "code",
   "execution_count": null,
   "id": "d98a0c93-5f4a-457b-96af-91489da03c88",
   "metadata": {},
   "outputs": [],
   "source": []
  },
  {
   "cell_type": "code",
   "execution_count": null,
   "id": "c2fbbbe7-7673-46b3-bc59-878e565926f7",
   "metadata": {},
   "outputs": [],
   "source": []
  },
  {
   "cell_type": "code",
   "execution_count": null,
   "id": "f644b689-23ce-42b7-84c1-3ad12218d9ed",
   "metadata": {},
   "outputs": [],
   "source": []
  },
  {
   "cell_type": "code",
   "execution_count": null,
   "id": "697dfe2c-44a1-4841-9f1a-ff39d38294a2",
   "metadata": {},
   "outputs": [],
   "source": []
  },
  {
   "cell_type": "code",
   "execution_count": 1,
   "id": "e834cdac-f04e-4291-8ed9-f7e2293d7f3f",
   "metadata": {},
   "outputs": [],
   "source": [
    "#wrong original code\n",
    "from IPython.display import clear_output\n",
    "\n",
    "def display_board(board):\n",
    "    clear_output()\n",
    "    print('   |   |')\n",
    "    print(' ' + board[1] + ' | ' + board[2] + ' | ' + board[3])\n",
    "    print('   |   |')\n",
    "    print('-----------')\n",
    "    print('   |   |')\n",
    "    print(' ' + board[4] + ' | ' + board[5] + ' | ' + board[6])\n",
    "    print('   |   |')\n",
    "    print('-----------')\n",
    "    print('   |   |')\n",
    "    print(' ' + board[7] + ' | ' + board[8] + ' | ' + board[9])\n",
    "    print('   |   |')\n",
    "\n",
    "\n",
    "def sign_assignment():\n",
    "    list_of_signs=['X','O']\n",
    "    value1=''\n",
    "    value2=''\n",
    "    while value1 not in list_of_signs:\n",
    "        value1=input('Choose your sign: X, O').upper()\n",
    "          \n",
    "        \n",
    "        if value1=='X':\n",
    "                  value2=list_of_signs[1]\n",
    "            \n",
    "        else:\n",
    "                  value2=list_of_signs[0]\n",
    "    print(f'PLAYER 1 is: {value1}') \n",
    "    print(f'PLAYER 2 is: {value2}')   \n",
    "    return (value1,value2)\n",
    "            \n",
    "\n",
    "\n",
    "def place_marker(board, value1, value2, position1, position2):\n",
    "    # Use position1 and position2 to place markers for PLAYER1 and PLAYER2\n",
    "    for pos in position1:\n",
    "        board[int(pos)] = value1\n",
    "    for pos in position2:\n",
    "        board[int(pos)] = value2\n",
    "\n",
    "\n",
    "def winner(player_one, player_two,total):\n",
    "    win = {\n",
    "        'k1': ['1', '2', '3'], 'k2': ['4', '5', '6'], 'k3': ['7', '8', '9'],\n",
    "        'k4': ['1', '4', '7'], 'k5': ['2', '5', '8'], 'k6': ['3', '6', '9'],\n",
    "        'k7': ['1', '5', '9'], 'k8': ['3', '5', '7']\n",
    "    }\n",
    "\n",
    "    # Check if any player has won\n",
    "    for key, win_combo in win.items():\n",
    "        if all(num in player_one for num in win_combo):\n",
    "            print('PLAYER1 wins')\n",
    "            return True  # Exit after a winner is found\n",
    "        elif all(num in player_two for num in win_combo):\n",
    "            print('PLAYER2 wins')\n",
    "            return True  # Exit after a winner is found\n",
    "\n",
    "    # Check if there are no more moves left\n",
    "    if not total:  # No moves left, it's a tie\n",
    "        print(\"It's a tie!\")\n",
    "        return True  # End the game if no moves are left\n",
    "    \n",
    "    return False  # No winner yet, continue\n",
    "\n",
    "\n",
    "def total_moves():\n",
    "    total=['1','2','3','4','5','6','7','8','9']\n",
    "    #total=[1,2,3,4,5,6,7,8,9]\n",
    "    player_one=''\n",
    "    player_two=''\n",
    "    position1=[]\n",
    "    position2=[]\n",
    "    myboard=[' ']*10\n",
    "    while total:\n",
    "        PLAYER1=input('PLAYER1 please pick a number :')\n",
    "        if PLAYER1 in total and PLAYER1 not in player_two and PLAYER1 not in player_one:\n",
    "            total.remove(PLAYER1)\n",
    "            player_one+=PLAYER1\n",
    "            position1.append(PLAYER1)\n",
    "            place_marker(myboard, value1, value2, position1, position2)  # Update the board\n",
    "            display_board(myboard)\n",
    "            #clear_output()\n",
    "            print(f'PLAYER1 pick is: {PLAYER1}')\n",
    "            print('PLAYER2 turn')\n",
    "            \n",
    "        else:\n",
    "            continue   \n",
    "        if winner(player_one, player_two, total):\n",
    "            result=\"\".join(total)\n",
    "            #return position1, position2\n",
    "            return list('#'+result+player_one + player_two), \n",
    "            \n",
    "        \n",
    "        \n",
    "        while total:\n",
    "            PLAYER2=input('PLAYER2 please pick a number :')\n",
    "            if PLAYER2 in total and PLAYER2 not in player_one and PLAYER2 not in player_two:\n",
    "                total.remove(PLAYER2)\n",
    "                player_two+=PLAYER2\n",
    "                position2.append(PLAYER2)\n",
    "                place_marker(myboard, value1, value2, position1, position2)  # Update the board\n",
    "                display_board(myboard)\n",
    "                #clear_output()\n",
    "                print(f'PLAYER2 pick is: {PLAYER2}')\n",
    "                print('PLAYER1 turn')\n",
    "                \n",
    "                break\n",
    "            else:\n",
    "                continue\n",
    "            if winner(player_one, player_two, total):\n",
    "                result=\"\".join(total)\n",
    "                #return position1, position2\n",
    "                return list('#'+result+player_one + player_two)\n",
    "\n",
    "\n",
    "def get_final_result(position1, position2, player_one, player_two):\n",
    "    \n",
    "    return position1, position2\n",
    "\n",
    "\n",
    "\n",
    "def play_game():\n",
    "    # Start the game\n",
    "\n",
    "    #welcome()\n",
    "    myboard=[' ']*10\n",
    "    display_board(myboard)\n",
    "    value1, value2=sign_assignment()\n",
    "    display_board(myboard)\n",
    "    get_final_result, position1,position2=total_moves()\n",
    "    \n",
    "    place_marker(myboard, value1, value2, position1, position2)\n",
    "    display_board(myboard)"
   ]
  },
  {
   "cell_type": "code",
   "execution_count": 5,
   "id": "6ea326ea-92d7-4a48-9543-4101115bf2c4",
   "metadata": {},
   "outputs": [
    {
     "ename": "KeyboardInterrupt",
     "evalue": "Interrupted by user",
     "output_type": "error",
     "traceback": [
      "\u001b[0;31m---------------------------------------------------------------------------\u001b[0m",
      "\u001b[0;31mKeyboardInterrupt\u001b[0m                         Traceback (most recent call last)",
      "Cell \u001b[0;32mIn[5], line 1\u001b[0m\n\u001b[0;32m----> 1\u001b[0m position1\u001b[38;5;241m=\u001b[39mtotal_moves()\n",
      "Cell \u001b[0;32mIn[1], line 79\u001b[0m, in \u001b[0;36mtotal_moves\u001b[0;34m()\u001b[0m\n\u001b[1;32m     77\u001b[0m myboard\u001b[38;5;241m=\u001b[39m[\u001b[38;5;124m'\u001b[39m\u001b[38;5;124m \u001b[39m\u001b[38;5;124m'\u001b[39m]\u001b[38;5;241m*\u001b[39m\u001b[38;5;241m10\u001b[39m\n\u001b[1;32m     78\u001b[0m \u001b[38;5;28;01mwhile\u001b[39;00m total:\n\u001b[0;32m---> 79\u001b[0m     PLAYER1\u001b[38;5;241m=\u001b[39m\u001b[38;5;28minput\u001b[39m(\u001b[38;5;124m'\u001b[39m\u001b[38;5;124mPLAYER1 please pick a number :\u001b[39m\u001b[38;5;124m'\u001b[39m)\n\u001b[1;32m     80\u001b[0m     \u001b[38;5;28;01mif\u001b[39;00m PLAYER1 \u001b[38;5;129;01min\u001b[39;00m total \u001b[38;5;129;01mand\u001b[39;00m PLAYER1 \u001b[38;5;129;01mnot\u001b[39;00m \u001b[38;5;129;01min\u001b[39;00m player_two \u001b[38;5;129;01mand\u001b[39;00m PLAYER1 \u001b[38;5;129;01mnot\u001b[39;00m \u001b[38;5;129;01min\u001b[39;00m player_one:\n\u001b[1;32m     81\u001b[0m         total\u001b[38;5;241m.\u001b[39mremove(PLAYER1)\n",
      "File \u001b[0;32m/opt/anaconda3/lib/python3.12/site-packages/ipykernel/kernelbase.py:1262\u001b[0m, in \u001b[0;36mKernel.raw_input\u001b[0;34m(self, prompt)\u001b[0m\n\u001b[1;32m   1260\u001b[0m     msg \u001b[38;5;241m=\u001b[39m \u001b[38;5;124m\"\u001b[39m\u001b[38;5;124mraw_input was called, but this frontend does not support input requests.\u001b[39m\u001b[38;5;124m\"\u001b[39m\n\u001b[1;32m   1261\u001b[0m     \u001b[38;5;28;01mraise\u001b[39;00m StdinNotImplementedError(msg)\n\u001b[0;32m-> 1262\u001b[0m \u001b[38;5;28;01mreturn\u001b[39;00m \u001b[38;5;28mself\u001b[39m\u001b[38;5;241m.\u001b[39m_input_request(\n\u001b[1;32m   1263\u001b[0m     \u001b[38;5;28mstr\u001b[39m(prompt),\n\u001b[1;32m   1264\u001b[0m     \u001b[38;5;28mself\u001b[39m\u001b[38;5;241m.\u001b[39m_parent_ident[\u001b[38;5;124m\"\u001b[39m\u001b[38;5;124mshell\u001b[39m\u001b[38;5;124m\"\u001b[39m],\n\u001b[1;32m   1265\u001b[0m     \u001b[38;5;28mself\u001b[39m\u001b[38;5;241m.\u001b[39mget_parent(\u001b[38;5;124m\"\u001b[39m\u001b[38;5;124mshell\u001b[39m\u001b[38;5;124m\"\u001b[39m),\n\u001b[1;32m   1266\u001b[0m     password\u001b[38;5;241m=\u001b[39m\u001b[38;5;28;01mFalse\u001b[39;00m,\n\u001b[1;32m   1267\u001b[0m )\n",
      "File \u001b[0;32m/opt/anaconda3/lib/python3.12/site-packages/ipykernel/kernelbase.py:1305\u001b[0m, in \u001b[0;36mKernel._input_request\u001b[0;34m(self, prompt, ident, parent, password)\u001b[0m\n\u001b[1;32m   1302\u001b[0m \u001b[38;5;28;01mexcept\u001b[39;00m \u001b[38;5;167;01mKeyboardInterrupt\u001b[39;00m:\n\u001b[1;32m   1303\u001b[0m     \u001b[38;5;66;03m# re-raise KeyboardInterrupt, to truncate traceback\u001b[39;00m\n\u001b[1;32m   1304\u001b[0m     msg \u001b[38;5;241m=\u001b[39m \u001b[38;5;124m\"\u001b[39m\u001b[38;5;124mInterrupted by user\u001b[39m\u001b[38;5;124m\"\u001b[39m\n\u001b[0;32m-> 1305\u001b[0m     \u001b[38;5;28;01mraise\u001b[39;00m \u001b[38;5;167;01mKeyboardInterrupt\u001b[39;00m(msg) \u001b[38;5;28;01mfrom\u001b[39;00m \u001b[38;5;28;01mNone\u001b[39;00m\n\u001b[1;32m   1306\u001b[0m \u001b[38;5;28;01mexcept\u001b[39;00m \u001b[38;5;167;01mException\u001b[39;00m:\n\u001b[1;32m   1307\u001b[0m     \u001b[38;5;28mself\u001b[39m\u001b[38;5;241m.\u001b[39mlog\u001b[38;5;241m.\u001b[39mwarning(\u001b[38;5;124m\"\u001b[39m\u001b[38;5;124mInvalid Message:\u001b[39m\u001b[38;5;124m\"\u001b[39m, exc_info\u001b[38;5;241m=\u001b[39m\u001b[38;5;28;01mTrue\u001b[39;00m)\n",
      "\u001b[0;31mKeyboardInterrupt\u001b[0m: Interrupted by user"
     ]
    }
   ],
   "source": [
    "position1=total_moves()"
   ]
  },
  {
   "cell_type": "code",
   "execution_count": 16,
   "id": "8c0930c6-57e4-4b7d-bb87-d6490419dba1",
   "metadata": {},
   "outputs": [],
   "source": [
    "def get_final_result(position1, position2, player_one, player_two):\n",
    "    \n",
    "    return position1, position2\n"
   ]
  },
  {
   "cell_type": "code",
   "execution_count": 47,
   "id": "8dccf784-6fcf-4999-a553-5ca3b082d9a0",
   "metadata": {},
   "outputs": [
    {
     "ename": "TypeError",
     "evalue": "get_final_result() missing 4 required positional arguments: 'position1', 'position2', 'player_one', and 'player_two'",
     "output_type": "error",
     "traceback": [
      "\u001b[0;31m---------------------------------------------------------------------------\u001b[0m",
      "\u001b[0;31mTypeError\u001b[0m                                 Traceback (most recent call last)",
      "Cell \u001b[0;32mIn[47], line 1\u001b[0m\n\u001b[0;32m----> 1\u001b[0m get_final_result()\n",
      "\u001b[0;31mTypeError\u001b[0m: get_final_result() missing 4 required positional arguments: 'position1', 'position2', 'player_one', and 'player_two'"
     ]
    }
   ],
   "source": [
    "get_final_result()"
   ]
  },
  {
   "cell_type": "code",
   "execution_count": 18,
   "id": "92643704-2b50-494b-8d70-3e356c43256a",
   "metadata": {},
   "outputs": [
    {
     "ename": "NameError",
     "evalue": "name 'display_board' is not defined",
     "output_type": "error",
     "traceback": [
      "\u001b[0;31m---------------------------------------------------------------------------\u001b[0m",
      "\u001b[0;31mNameError\u001b[0m                                 Traceback (most recent call last)",
      "Cell \u001b[0;32mIn[18], line 1\u001b[0m\n\u001b[0;32m----> 1\u001b[0m display_board(position1)\n",
      "\u001b[0;31mNameError\u001b[0m: name 'display_board' is not defined"
     ]
    }
   ],
   "source": [
    "display_board(position1)"
   ]
  },
  {
   "cell_type": "code",
   "execution_count": null,
   "id": "5b4ca959-ee8f-4f1b-98e9-67062618d844",
   "metadata": {},
   "outputs": [],
   "source": [
    "def play_game():\n",
    "    # Start the game\n",
    "\n",
    "    welcome()\n",
    "    myboard=[' ']*10\n",
    "    display_board(myboard)\n",
    "    value1, value2=sign_assignment()\n",
    "    display_board(myboard)\n",
    "    get_final_result, position1,position2=total_moves()\n",
    "    \n",
    "    place_marker(myboard, value1, value2, position1, position2)\n",
    "    display_board(myboard)"
   ]
  },
  {
   "cell_type": "code",
   "execution_count": null,
   "id": "04d99e2a-e1c1-46a2-bd43-7112d8129d2d",
   "metadata": {},
   "outputs": [],
   "source": [
    "place_marker(test_board,'$','@',8,9)\n",
    "display_board(test_board)"
   ]
  }
 ],
 "metadata": {
  "kernelspec": {
   "display_name": "Python 3 (ipykernel)",
   "language": "python",
   "name": "python3"
  },
  "language_info": {
   "codemirror_mode": {
    "name": "ipython",
    "version": 3
   },
   "file_extension": ".py",
   "mimetype": "text/x-python",
   "name": "python",
   "nbconvert_exporter": "python",
   "pygments_lexer": "ipython3",
   "version": "3.12.7"
  }
 },
 "nbformat": 4,
 "nbformat_minor": 5
}
