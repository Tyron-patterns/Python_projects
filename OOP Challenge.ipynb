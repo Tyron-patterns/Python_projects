{
 "cells": [
  {
   "cell_type": "markdown",
   "metadata": {},
   "source": [
    "# Note: This project started as a challenge for a course I attended, but eventually evolved into a more layered, complex, and complete program."
   ]
  },
  {
   "cell_type": "markdown",
   "metadata": {},
   "source": [
    "# Object Oriented Programming Challenge\n",
    "\n",
    "For this challenge, create a bank account class that has two attributes:\n",
    "\n",
    "* owner\n",
    "* balance\n",
    "\n",
    "and two methods:\n",
    "\n",
    "* deposit\n",
    "* withdraw\n",
    "\n",
    "As an added requirement, withdrawals may not exceed the available balance.\n",
    "\n",
    "Instantiate your class, make several deposits and withdrawals, and test to make sure the account can't be overdrawn."
   ]
  },
  {
   "cell_type": "code",
   "execution_count": 21,
   "metadata": {},
   "outputs": [],
   "source": [
    "class Account:\n",
    "    new_balance=0\n",
    "    def __init__(self, owner, balance):\n",
    "        self.owner = owner\n",
    "        self.balance = balance  # Instance variable to store the balance\n",
    "\n",
    "    def deposit(self):\n",
    "        depo = int(input('Please insert the desired amount: \\n'))\n",
    "        depo2=0\n",
    "        depo_n=[]\n",
    "        print(f'\\nDeposit accepted!\\nAvailable balance is {depo}\\n')\n",
    "        while True:\n",
    "            new_depo=input('Do you want to make a new deposit: Y or N ?\\n').upper()\n",
    "            if new_depo=='Y':\n",
    "                depo2 = int(input('\\nPlease insert the desired amount: \\n'))\n",
    "                depo_n.append(depo2)\n",
    "                continue\n",
    "            elif new_depo=='N':\n",
    "                print('')\n",
    "                break\n",
    "            else:\n",
    "                print('\\nPlease type Y or N')\n",
    "        # Add the deposit to the current balance\n",
    "        self.new_balance = self.balance + depo + sum(depo_n)  # Update the instance's balance\n",
    "        print(f'Deposit accepted!\\nAvailable balance is {self.new_balance}\\n')# Access the instance balance\n",
    "        print(\"Thank you and see you soon!\")\n",
    "\n",
    "    def withdraw(self):\n",
    "        total_withdrawn = 0 \n",
    "        while True:\n",
    "            withd = int(input('Please insert the desired amount: \\n'))\n",
    "            if withd > self.new_balance:  # Check if withdrawal exceeds the available balance\n",
    "                print('\\nThe withdrawal amount exceeds the current availability')\n",
    "            else:\n",
    "                total_withdrawn += withd\n",
    "                current_balance=self.new_balance-total_withdrawn\n",
    "                print(f'\\nWithdrawal successful. You withdrew {withd}.\\nAvailable balance is {current_balance}\\n')\n",
    "                while True:\n",
    "                    withd_again=input('Do you want to withdraw again: Y or N ?').upper()\n",
    "                    if withd_again=='Y':\n",
    "                        new_withd=int(input('\\nPlease insert the desired amount: '))\n",
    "                        if total_withdrawn + new_withd > self.new_balance:  \n",
    "                            print('\\nThe withdrawal amount exceeds the current availability') # Check if new total exceeds balance\n",
    "                        else:\n",
    "                            total_withdrawn += new_withd  # Update the total withdrawal\n",
    "                            current_balance=self.new_balance-total_withdrawn\n",
    "                            print(f'\\nWithdrawal successful. You withdrew {new_withd}.\\nAvailable balance is {current_balance}\\n')\n",
    "                            continue\n",
    "                    elif withd_again=='N':\n",
    "                        break\n",
    "                    else:\n",
    "                        print('\\nPlease type Y or N')\n",
    "                self.new_balance -= total_withdrawn   # Update the instance balance after withdrawal\n",
    "                return (print(f'\\nWithdrawal successful. You withdrew {total_withdrawn}.\\nAvailable balance is {self.new_balance}\\n`'))  # Access updated balance\n",
    "\n"
   ]
  },
  {
   "cell_type": "code",
   "execution_count": 23,
   "metadata": {},
   "outputs": [],
   "source": [
    "myaccount=Account('Tyron', 100)"
   ]
  },
  {
   "cell_type": "code",
   "execution_count": 27,
   "metadata": {},
   "outputs": [
    {
     "name": "stdin",
     "output_type": "stream",
     "text": [
      "Please insert the desired amount: \n",
      " 20\n"
     ]
    },
    {
     "name": "stdout",
     "output_type": "stream",
     "text": [
      "\n",
      "Deposit accepted!\n",
      "Available balance is 20\n",
      "\n"
     ]
    },
    {
     "name": "stdin",
     "output_type": "stream",
     "text": [
      "Do you want to make a new deposit: Y or N ?\n",
      " e\n"
     ]
    },
    {
     "name": "stdout",
     "output_type": "stream",
     "text": [
      "\n",
      "Please type Y or N\n"
     ]
    },
    {
     "name": "stdin",
     "output_type": "stream",
     "text": [
      "Do you want to make a new deposit: Y or N ?\n",
      " y\n",
      "\n",
      "Please insert the desired amount: \n",
      " 30\n",
      "Do you want to make a new deposit: Y or N ?\n",
      " n\n"
     ]
    },
    {
     "name": "stdout",
     "output_type": "stream",
     "text": [
      "\n",
      "Deposit accepted!\n",
      "Available balance is 150\n",
      "\n",
      "Thank you and see you soon!\n"
     ]
    }
   ],
   "source": [
    "myaccount.deposit()"
   ]
  },
  {
   "cell_type": "code",
   "execution_count": 29,
   "metadata": {},
   "outputs": [
    {
     "name": "stdin",
     "output_type": "stream",
     "text": [
      "Please insert the desired amount: \n",
      " 170\n"
     ]
    },
    {
     "name": "stdout",
     "output_type": "stream",
     "text": [
      "\n",
      "The withdrawal amount exceeds the current availability\n"
     ]
    },
    {
     "name": "stdin",
     "output_type": "stream",
     "text": [
      "Please insert the desired amount: \n",
      " 30\n"
     ]
    },
    {
     "name": "stdout",
     "output_type": "stream",
     "text": [
      "\n",
      "Withdrawal successful. You withdrew 30.\n",
      "Available balance is 120\n",
      "\n"
     ]
    },
    {
     "name": "stdin",
     "output_type": "stream",
     "text": [
      "Do you want to withdraw again: Y or N ? e\n"
     ]
    },
    {
     "name": "stdout",
     "output_type": "stream",
     "text": [
      "\n",
      "Please type Y or N\n"
     ]
    },
    {
     "name": "stdin",
     "output_type": "stream",
     "text": [
      "Do you want to withdraw again: Y or N ? y\n",
      "Please insert the desired amount:  30\n"
     ]
    },
    {
     "name": "stdout",
     "output_type": "stream",
     "text": [
      "\n",
      "Withdrawal successful. You withdrew 30.\n",
      "Available balance is 90\n",
      "\n"
     ]
    },
    {
     "name": "stdin",
     "output_type": "stream",
     "text": [
      "Do you want to withdraw again: Y or N ? y\n",
      "Please insert the desired amount:  50\n"
     ]
    },
    {
     "name": "stdout",
     "output_type": "stream",
     "text": [
      "\n",
      "Withdrawal successful. You withdrew 50.\n",
      "Available balance is 40\n",
      "\n"
     ]
    },
    {
     "name": "stdin",
     "output_type": "stream",
     "text": [
      "Do you want to withdraw again: Y or N ? n\n"
     ]
    },
    {
     "name": "stdout",
     "output_type": "stream",
     "text": [
      "\n",
      "Withdrawal successful. You withdrew 110.\n",
      "Available balance is 40\n",
      "`\n"
     ]
    }
   ],
   "source": [
    "myaccount.withdraw()"
   ]
  },
  {
   "cell_type": "code",
   "execution_count": null,
   "metadata": {},
   "outputs": [],
   "source": []
  },
  {
   "cell_type": "code",
   "execution_count": 13,
   "metadata": {},
   "outputs": [],
   "source": [
    "class Account:\n",
    "    def __init__(self,owner,balance):\n",
    "        self.owner=owner\n",
    "        self.balance=balance\n",
    "\n",
    "    def deposit(self):\n",
    "        depo=int(input('please insert the desired ammount: '))\n",
    "        #add the deposit to the previous balance\n",
    "        self.balance+=depo\n",
    "        return (f'Deposit accepted. Available balance is {self.balance}')\n",
    "\n",
    "    def withdraw(self):\n",
    "        while True:\n",
    "            withd = int(input('Please insert the desired amount: '))\n",
    "            if withd > self.balance:  # Check if withdrawal exceeds the available balance\n",
    "                print('The withdrawal amount exceeds the current availability')\n",
    "            else:\n",
    "                self.balance -= withd  # Update the instance balance after withdrawal\n",
    "                return (print(f'Withdrawal successful. You withdrew {withd}. Available balance is {self.balance}'))  # Access updated balance\n",
    "        \n",
    "        \n",
    "        "
   ]
  },
  {
   "cell_type": "code",
   "execution_count": 15,
   "metadata": {},
   "outputs": [],
   "source": [
    "myaccount=Account('Tyron', 100)"
   ]
  },
  {
   "cell_type": "code",
   "execution_count": 17,
   "metadata": {},
   "outputs": [
    {
     "data": {
      "text/plain": [
       "'Tyron'"
      ]
     },
     "execution_count": 17,
     "metadata": {},
     "output_type": "execute_result"
    }
   ],
   "source": [
    "myaccount.owner"
   ]
  },
  {
   "cell_type": "code",
   "execution_count": 19,
   "metadata": {},
   "outputs": [
    {
     "data": {
      "text/plain": [
       "100"
      ]
     },
     "execution_count": 19,
     "metadata": {},
     "output_type": "execute_result"
    }
   ],
   "source": [
    "myaccount.balance"
   ]
  },
  {
   "cell_type": "code",
   "execution_count": 23,
   "metadata": {},
   "outputs": [
    {
     "name": "stdin",
     "output_type": "stream",
     "text": [
      "Please insert the desired amount:  20\n"
     ]
    },
    {
     "name": "stdout",
     "output_type": "stream",
     "text": [
      "Deposit accepted. Available balance is 120\n"
     ]
    }
   ],
   "source": [
    "myaccount.deposit()"
   ]
  },
  {
   "cell_type": "code",
   "execution_count": 23,
   "metadata": {},
   "outputs": [
    {
     "name": "stdin",
     "output_type": "stream",
     "text": [
      "Please insert the desired amount:  130\n"
     ]
    },
    {
     "name": "stdout",
     "output_type": "stream",
     "text": [
      "The withdrawal amount exceeds the current availability\n"
     ]
    },
    {
     "name": "stdin",
     "output_type": "stream",
     "text": [
      "Please insert the desired amount:  125\n"
     ]
    },
    {
     "name": "stdout",
     "output_type": "stream",
     "text": [
      "The withdrawal amount exceeds the current availability\n"
     ]
    },
    {
     "name": "stdin",
     "output_type": "stream",
     "text": [
      "Please insert the desired amount:  120\n"
     ]
    },
    {
     "name": "stdout",
     "output_type": "stream",
     "text": [
      "Withdrawal successful. You withdrew 120. Available balance is 0\n"
     ]
    }
   ],
   "source": [
    "myaccount.withdraw()"
   ]
  },
  {
   "cell_type": "code",
   "execution_count": null,
   "metadata": {},
   "outputs": [],
   "source": []
  },
  {
   "cell_type": "code",
   "execution_count": null,
   "metadata": {},
   "outputs": [],
   "source": []
  },
  {
   "cell_type": "code",
   "execution_count": null,
   "metadata": {},
   "outputs": [],
   "source": []
  },
  {
   "cell_type": "code",
   "execution_count": null,
   "metadata": {},
   "outputs": [],
   "source": []
  }
 ],
 "metadata": {
  "kernelspec": {
   "display_name": "Python 3 (ipykernel)",
   "language": "python",
   "name": "python3"
  },
  "language_info": {
   "codemirror_mode": {
    "name": "ipython",
    "version": 3
   },
   "file_extension": ".py",
   "mimetype": "text/x-python",
   "name": "python",
   "nbconvert_exporter": "python",
   "pygments_lexer": "ipython3",
   "version": "3.12.7"
  }
 },
 "nbformat": 4,
 "nbformat_minor": 4
}
